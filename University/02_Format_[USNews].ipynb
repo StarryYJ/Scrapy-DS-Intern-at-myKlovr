{
 "cells": [
  {
   "cell_type": "code",
   "execution_count": null,
   "metadata": {},
   "outputs": [],
   "source": [
    "import os\n",
    "import pandas as pd"
   ]
  },
  {
   "cell_type": "code",
   "execution_count": 29,
   "metadata": {},
   "outputs": [
    {
     "name": "stdout",
     "output_type": "stream",
     "text": [
      "['FA quick stats.csv', 'ranking.csv', 'student life.csv', 'Student Loan Debt by family income(Typical total).csv', 'general info in campus block.csv', 'general_cost.csv', 'Student Loan Debt by family income(Undergraduates).csv', 'student loan text.csv', 'USNewsID.csv', 'Student Loan Debt(general).csv', '.ipynb_checkpoints', 'average_annual_cost_by_family_income.csv', 'image links in campus block.csv']\n"
     ]
    }
   ],
   "source": [
    "filePath = '../../user-notebooks/yjin/USNews/results/'\n",
    "file_names = os.listdir(filePath)\n",
    "print(file_names)"
   ]
  },
  {
   "cell_type": "code",
   "execution_count": 30,
   "metadata": {},
   "outputs": [],
   "source": [
    "# ranking file has some other shcools that are not in the ID list\n",
    "file_names.remove('ranking.csv')\n",
    "file_names.remove('USNewsID.csv')\n",
    "ranking = pd.read_csv(filePath + 'USNewsID.csv', index_col=0)\n",
    "ID = pd.read_csv(filePath + 'USNewsID.csv', index_col=1).drop('Unnamed: 0', axis=1)\n",
    "\n",
    "ranking = ranking.drop('University', axis=1)\n",
    "ranking.to_csv('ranking.csv', index=False)"
   ]
  },
  {
   "cell_type": "code",
   "execution_count": null,
   "metadata": {},
   "outputs": [],
   "source": [
    "file_names.remove('student loan text.csv')"
   ]
  },
  {
   "cell_type": "code",
   "execution_count": null,
   "metadata": {},
   "outputs": [],
   "source": [
    "for i in file_names:\n",
    "    if i[-4:] == '.csv':\n",
    "        temp = pd.read_csv(filePath + i)\n",
    "        temp[\"ID\"] = 'N/A'\n",
    "        for j in range(len(temp)):\n",
    "            temp['ID'][j] = ID.loc[temp['University'][j], 'USNews_ID']\n",
    "        temp = temp.drop('University', axis=1)\n",
    "        temp.to_csv(i, index=False)"
   ]
  }
 ],
 "metadata": {
  "kernelspec": {
   "display_name": "Python 3",
   "language": "python",
   "name": "python3"
  },
  "language_info": {
   "codemirror_mode": {
    "name": "ipython",
    "version": 3
   },
   "file_extension": ".py",
   "mimetype": "text/x-python",
   "name": "python",
   "nbconvert_exporter": "python",
   "pygments_lexer": "ipython3",
   "version": "3.6.10"
  }
 },
 "nbformat": 4,
 "nbformat_minor": 4
}
